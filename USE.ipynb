{
 "cells": [
  {
   "cell_type": "code",
   "execution_count": 4,
   "metadata": {},
   "outputs": [
    {
     "name": "stderr",
     "output_type": "stream",
     "text": [
      "2023-03-26 19:03:22.810904: I tensorflow/tsl/cuda/cudart_stub.cc:28] Could not find cuda drivers on your machine, GPU will not be used.\n",
      "2023-03-26 19:03:23.308668: I tensorflow/tsl/cuda/cudart_stub.cc:28] Could not find cuda drivers on your machine, GPU will not be used.\n",
      "2023-03-26 19:03:23.310238: I tensorflow/core/platform/cpu_feature_guard.cc:182] This TensorFlow binary is optimized to use available CPU instructions in performance-critical operations.\n",
      "To enable the following instructions: AVX2 FMA, in other operations, rebuild TensorFlow with the appropriate compiler flags.\n",
      "2023-03-26 19:03:25.437796: W tensorflow/compiler/tf2tensorrt/utils/py_utils.cc:38] TF-TRT Warning: Could not find TensorRT\n"
     ]
    },
    {
     "name": "stdout",
     "output_type": "stream",
     "text": [
      "module https://tfhub.dev/google/universal-sentence-encoder-multilingual/3 loaded\n"
     ]
    }
   ],
   "source": [
    "#module_url = \"https://tfhub.dev/google/universal-sentence-encoder/4\" \n",
    "import tensorflow_text\n",
    "import tensorflow_hub as hub\n",
    "\n",
    "module_url = \"https://tfhub.dev/google/universal-sentence-encoder-multilingual/3\" \n",
    "model = hub.load(module_url)\n",
    "print (\"module %s loaded\" % module_url)"
   ]
  },
  {
   "cell_type": "code",
   "execution_count": 3,
   "metadata": {},
   "outputs": [],
   "source": [
    "import pandas as pd\n",
    "import nltk\n",
    "from nltk.tokenize import word_tokenize\n",
    "import numpy as np\n",
    "\n",
    "#load pandas dataframe (rimuovo le righe vuote che putroppo sono presenti)\n",
    "vax_series = pd.read_csv('data/posts_ULTRAcleaned_it_only_spacy.csv')\n",
    "vax_series.dropna(inplace=True)\n",
    "\n",
    "#salviamo una lista di lista con le parole tokenizzate\n",
    "vax_text = vax_series['clean_text'].tolist()\n",
    "\n"
   ]
  },
  {
   "cell_type": "code",
   "execution_count": 7,
   "metadata": {},
   "outputs": [
    {
     "name": "stdout",
     "output_type": "stream",
     "text": [
      "Secondo tutte le leggi conosciute dell’aeronautica, non c’è modo che un ape sia in grado di volare. Le sue ali sono troppo piccole per sollevare il suo corpicino grassoccio da terra. L’ape, si sa, vola lo stesso. Perché alle api non interessa quello che gli uomini ritengono impossibile\n"
     ]
    }
   ],
   "source": [
    "import spacy\n",
    "import pandas as pd\n",
    "import regex as re\n",
    "import nltk\n",
    "from nltk.stem.snowball import SnowballStemmer\n",
    "from nltk.tokenize import word_tokenize\n",
    "from nltk.corpus import stopwords\n",
    "it_stopwords = stopwords.words('italian')\n",
    "\n",
    "#the stemmer requires a language parameter\n",
    "snow_stemmer = SnowballStemmer(language='italian')\n",
    "\n",
    "def cleaner(s):\n",
    "    #removing numbers and special caracters\n",
    "    s = re.sub(r'[^a-z\\s]', '', s).strip()\n",
    "    #remving multiple spaces\n",
    "    s = \" \".join(s.split()).strip()\n",
    "    #some manual corrections\n",
    "    #s = s.replace(' accino', ' vaccino')\n",
    "    #removing stopwords with nltk\n",
    "    s = stop_word_remover(s)\n",
    "    #stemming with nltk\n",
    "    s = stemmer(s)\n",
    "\n",
    "    return s\n",
    "\n",
    "\n",
    "def stop_word_remover(text):\n",
    "    word_tokens = word_tokenize(text)\n",
    "    word_list = [word for word in word_tokens if word.lower() not in it_stopwords]\n",
    "    return \" \".join(word_list)\n",
    "\n",
    "def stemmer(text):\n",
    "    words = word_tokenize(text)\n",
    "    stem_words = [snow_stemmer.stem(word) for word in words]\n",
    "    return \" \".join(stem_words)\n",
    "\n",
    "query = \"Secondo tutte le leggi conosciute dell’aeronautica, non c’è modo che un ape sia in grado di volare. Le sue ali sono troppo piccole per sollevare il suo corpicino grassoccio da terra. L’ape, si sa, vola lo stesso. Perché alle api non interessa quello che gli uomini ritengono impossibile\"\n",
    "#query = \"vaccino pfizer lanciato sul mercato: 1 morto e 3 feriti\"\n",
    "#query=cleaner(query)\n",
    "\n",
    "print(query)\n"
   ]
  },
  {
   "attachments": {},
   "cell_type": "markdown",
   "metadata": {},
   "source": [
    "## Embedding\n",
    "\n",
    "Vettorizziamo tutto il dataset di partenza. Per ogni frase viene prodotto un vettore a 512 dimensioni. A causa di un crash dovuto alla memoria non si può elaborare tutto il dataset ma solamente batch di 1000 frasi alla volta."
   ]
  },
  {
   "cell_type": "code",
   "execution_count": 5,
   "metadata": {},
   "outputs": [],
   "source": [
    "#Vettorizza a 512 dimensioni ogni frase\n",
    "sentences_number = len(vax_text)\n",
    "BATCH_SIZE = 1000\n",
    "\n",
    "start = 0\n",
    "stop = BATCH_SIZE\n",
    "sentence_vector: np.ndarray = np.zeros((sentences_number, 512))\n",
    "while sentences_number > 0:\n",
    "    sentence_embeddings = model(vax_text[start:stop])\n",
    "    sentence_vector[start:stop] = sentence_embeddings\n",
    "\n",
    "    processed = stop - start\n",
    "    sentences_number -= processed\n",
    "\n",
    "    start = stop\n",
    "\n",
    "    if sentences_number < BATCH_SIZE:\n",
    "        stop += sentences_number\n",
    "    else:\n",
    "        stop += BATCH_SIZE\n",
    "\n",
    "print(\"Shape of sentence vector: \", sentence_vector.shape)"
   ]
  },
  {
   "cell_type": "code",
   "execution_count": null,
   "metadata": {},
   "outputs": [
    {
     "name": "stdout",
     "output_type": "stream",
     "text": [
      "Sentence =  pronto affrontare settimana quirinale booster ; similarity =  0.19908323884010315\n",
      "Sentence =  pass sanitaire guarigione booster pezzo dose migliore dellimmunite covid volere togliere scadenza spg tridosato autorizzare infettare natural arrestatele ; similarity =  0.3462800681591034\n",
      "Sentence =  vaccinare bambino ricevere almeno dose Italia booster over piano notizia vaccare ; similarity =  0.30346691608428955\n",
      "Sentence =  sereno sbrocchiamo periodo perch certezza curare grare riconoscente vaccinare booster fatelo vaccino obbligatorio ; similarity =  0.41252434253692627\n",
      "Sentence =  vaccinare tredoso intero famiglia positivo covid influencer giornalista politico virologo commento proposito Greenpass booster tampono sivax novax emergenza ; similarity =  0.5320942997932434\n",
      "Sentence =  giovane dovere dose booster unico scudo omicron ; similarity =  0.3732379376888275\n",
      "Sentence =  booster ; similarity =  0.16326378285884857\n",
      "Sentence =  continuare ce fregare draghi Milan Juventus inter Venezia quirinale quirinale draghistan vaccino obbligatorio vaccino covid novax dittatura drago vattenere serie tim amico booster greenpassre ; similarity =  0.4700808525085449\n",
      "Sentence =  esperto israele chiedere somministrazione quarto dose vaccare over proteggere complicazione pi dimezzare rischio contagio covid israel booster ; similarity =  0.2464611679315567\n",
      "Sentence =  inter inzago positivo covid svegliateviiiiiiiiii inter Milan inter Venezia serie tim vaccino vaccinato greenpassre terzo doso booster omicron novax covid ; similarity =  0.3804921507835388\n"
     ]
    }
   ],
   "source": [
    "from scipy.spatial.distance import cosine, euclidean\n",
    "\n",
    "for sent in vax_text[:10]:\n",
    "  sim = 1 - cosine(query_vec, model([sent])[0])\n",
    "  #sim = cosine(query_vec, sent)\n",
    "  print(\"Sentence = \", sent, \"; similarity = \", sim)"
   ]
  },
  {
   "cell_type": "code",
   "execution_count": null,
   "metadata": {},
   "outputs": [],
   "source": [
    "#vax_text"
   ]
  },
  {
   "cell_type": "code",
   "execution_count": null,
   "metadata": {},
   "outputs": [
    {
     "data": {
      "text/plain": [
       "(2, 512)"
      ]
     },
     "execution_count": 8,
     "metadata": {},
     "output_type": "execute_result"
    }
   ],
   "source": [
    "import numpy as np\n",
    "# k-means - Inertia as the number of clusters varies\n",
    "from sklearn.cluster import KMeans\n",
    "from sklearn import preprocessing  # to normalise existing X\n",
    "\n",
    "#create a numpy array with all the vectors\n",
    "vectors = np.zeros((len(sentence_embeddings), 512))\n",
    "for i in range(len(sentence_embeddings)):\n",
    "    vectors[i] = sentence_embeddings[i]\n",
    "\n",
    "#normalize\n",
    "vectors = preprocessing.normalize(vectors)\n",
    "\n",
    "X_train_PCA = pd.DataFrame(vectors)\n",
    "\n",
    "n_clusters = 2\n",
    "n_init = 10\n",
    "max_iter = 300\n",
    "tol = 0.0001\n",
    "random_state = 2018\n",
    "# n_jobs = 2\n",
    "kMeans_inertia = pd.DataFrame(data=[],index=range(2), \\\n",
    "columns=['inertia'])\n",
    "\n",
    "kmeansfirst = KMeans(n_clusters=n_clusters, n_init=n_init, \\\n",
    "    max_iter=max_iter, tol=tol, random_state=random_state )\n",
    "   \n",
    "kmeansfirst.fit(X_train_PCA)\n",
    "\n",
    "center = kmeansfirst.cluster_centers_\n",
    "center.shape"
   ]
  },
  {
   "cell_type": "code",
   "execution_count": null,
   "metadata": {},
   "outputs": [
    {
     "data": {
      "text/plain": [
       "-11447.678045251776"
      ]
     },
     "execution_count": 9,
     "metadata": {},
     "output_type": "execute_result"
    }
   ],
   "source": [
    "kmeansfirst.score(X_train_PCA)"
   ]
  },
  {
   "cell_type": "code",
   "execution_count": null,
   "metadata": {},
   "outputs": [
    {
     "name": "stdout",
     "output_type": "stream",
     "text": [
      "Anomalies score:\n",
      "Euclidean distance sum: 0.9886950861360096\n",
      "Euclidean distance sum: 1.0876352980511506\n",
      "Euclidean distance sum: 1.04280290646287\n",
      "Novax score:\n",
      "Euclidean distance sum: 1.7469873493631871\n",
      "Euclidean distance sum: 0.9513516025978438\n",
      "Euclidean distance sum: 1.3739042161596244\n",
      "Euclidean distance sum: 0.9287548250062411\n",
      "Euclidean distance sum: 1.0126217617669886\n"
     ]
    }
   ],
   "source": [
    "#calculating the distance from the 2 centers\n",
    "from gensim import similarities\n",
    "from scipy.spatial.distance import cosine, euclidean\n",
    "import spacy\n",
    "import pandas as pd\n",
    "import regex as re\n",
    "import numpy as np\n",
    "\n",
    "\n",
    "#definiziamo una lista di frasi che dovrebbero essere classificate come anomalie\n",
    "anomalies = [\"il cane gioca a palla\",\"ho dovuto ripristinare il PC per togliere tutti i suoi malware\", \"bella giornata oggi\" ]\n",
    "novax_sentences = [\"i vaccini uccidono\", \"non mi voglio vaccinare\", \"no al booster\", \"dopo 4 dosi il sistema immunitario fritto\", \"i vaccini fanno morire le persone anche se ci dicono di no\"]\n",
    "#provo con un testo casuale\n",
    "#testo = \"i vaccini fanno morire le persone anche se ci dicono di no\"\n",
    "#test_vector = sbert_model.encode([anomalies])\n",
    "#test_vector = model(testo)\n",
    "\n",
    "cosine_distance = []\n",
    "euclidean_distance = []\n",
    "'''cosine_distance.append(  cosine(test_vector[0],center[0]) )\n",
    "cosine_distance.append(  cosine(test_vector[0],center[1]) )\n",
    "euclidean_distance.append (euclidean(test_vector[0],center[0]))\n",
    "euclidean_distance.append(euclidean(test_vector[0],center[1]))\n",
    "\n",
    "print(\"Distance score cosine 1 - 2:\",cosine_distance[0],cosine_distance[1])\n",
    "print(\"Distance score euclidean 1 - 2:\",euclidean_distance[0],euclidean_distance[1])\n",
    "print (\"Euclidean distance sum:\",sum(euclidean_distance))'''\n",
    "\n",
    "print(\"Anomalies score:\")\n",
    "for i in anomalies:\n",
    "   \n",
    "    test_vector = model([i])\n",
    "\n",
    "    cosine_distance = []\n",
    "    euclidean_distance = []\n",
    "\n",
    "    cosine_distance.append(  cosine(test_vector[0],center[0]) )\n",
    "    cosine_distance.append(  cosine(test_vector[0],center[1]) )\n",
    "    euclidean_distance.append (euclidean(test_vector[0],center[0]))\n",
    "    euclidean_distance.append(euclidean(test_vector[0],center[1]))\n",
    "   \n",
    "    print (\"Euclidean distance sum:\",cosine_distance[0]+cosine_distance[1])\n",
    "\n",
    "print(\"Novax score:\")\n",
    "for i in novax_sentences:\n",
    "    test_vector = model([i])\n",
    "\n",
    "    cosine_distance = []\n",
    "    euclidean_distance = []\n",
    "\n",
    "    cosine_distance.append(  cosine(test_vector[0],center[0]) )\n",
    "    cosine_distance.append(  cosine(test_vector[0],center[1]) )\n",
    "    euclidean_distance.append (euclidean(test_vector[0],center[0]))\n",
    "    euclidean_distance.append(euclidean(test_vector[0],center[1]))\n",
    "   \n",
    "    print (\"Euclidean distance sum:\",cosine_distance[0]+cosine_distance[1])"
   ]
  },
  {
   "cell_type": "code",
   "execution_count": null,
   "metadata": {},
   "outputs": [
    {
     "data": {
      "text/plain": [
       "['ho dovuto ripristinare il PC per togliere tutti i suoi malware']"
      ]
     },
     "execution_count": 11,
     "metadata": {},
     "output_type": "execute_result"
    }
   ],
   "source": [
    "[anomalies[1]]"
   ]
  },
  {
   "cell_type": "code",
   "execution_count": null,
   "metadata": {},
   "outputs": [
    {
     "data": {
      "text/plain": [
       "(19097, 2)"
      ]
     },
     "execution_count": 12,
     "metadata": {},
     "output_type": "execute_result"
    }
   ],
   "source": [
    "#Importing required modules\n",
    " \n",
    "\n",
    "from sklearn.decomposition import PCA\n",
    "from sklearn.cluster import KMeans\n",
    "import numpy as np\n",
    " \n",
    "#Load Data\n",
    "data = sentence_embeddings\n",
    "pca = PCA(2)\n",
    " \n",
    "#Transform the data\n",
    "df = pca.fit_transform(data)\n",
    " \n",
    "df.shape\n",
    "\n"
   ]
  },
  {
   "cell_type": "code",
   "execution_count": null,
   "metadata": {},
   "outputs": [
    {
     "name": "stderr",
     "output_type": "stream",
     "text": [
      "/home/apsev/.local/lib/python3.8/site-packages/sklearn/cluster/_kmeans.py:870: FutureWarning: The default value of `n_init` will change from 10 to 'auto' in 1.4. Set the value of `n_init` explicitly to suppress the warning\n",
      "  warnings.warn(\n"
     ]
    },
    {
     "name": "stdout",
     "output_type": "stream",
     "text": [
      "[0 0 0 ... 0 0 0]\n"
     ]
    }
   ],
   "source": [
    "#Import required module\n",
    "from sklearn.cluster import KMeans\n",
    " \n",
    "#Initialize the class object\n",
    "kmeans = KMeans(n_clusters= 1)\n",
    " \n",
    "#predict the labels of clusters.\n",
    "label = kmeans.fit_predict(df)\n",
    " \n",
    "print(label)\n"
   ]
  },
  {
   "cell_type": "code",
   "execution_count": null,
   "metadata": {},
   "outputs": [],
   "source": [
    "label.shape\n",
    "\n",
    "for i in label:\n",
    "    if i==1:\n",
    "        print(i)"
   ]
  },
  {
   "cell_type": "markdown",
   "metadata": {},
   "source": []
  },
  {
   "cell_type": "code",
   "execution_count": null,
   "metadata": {},
   "outputs": [
    {
     "data": {
      "image/png": "[encoded data removed]",
      "text/plain": [
       "<Figure size 640x480 with 1 Axes>"
      ]
     },
     "metadata": {},
     "output_type": "display_data"
    }
   ],
   "source": [
    "import matplotlib.pyplot as plt\n",
    " \n",
    "#filter rows of original data\n",
    "filtered_label0 = df[label == 0]\n",
    " \n",
    "#plotting the results\n",
    "plt.scatter(filtered_label0[:,0] , filtered_label0[:,1])\n",
    "plt.show()"
   ]
  },
  {
   "cell_type": "code",
   "execution_count": null,
   "metadata": {},
   "outputs": [
    {
     "data": {
      "image/png": "[encoded data removed]",
      "text/plain": [
       "<Figure size 640x480 with 1 Axes>"
      ]
     },
     "metadata": {},
     "output_type": "display_data"
    }
   ],
   "source": [
    "#Getting unique labels\n",
    " \n",
    "u_labels = np.unique(label)\n",
    " \n",
    "#plotting the results:\n",
    " \n",
    "for i in u_labels:\n",
    "    plt.scatter(df[label == i , 0] , df[label == i , 1] , label = i)\n",
    "plt.legend()\n",
    "plt.show()"
   ]
  },
  {
   "cell_type": "code",
   "execution_count": null,
   "metadata": {},
   "outputs": [
    {
     "data": {
      "image/png": "[encoded data removed]",
      "text/plain": [
       "<Figure size 640x480 with 1 Axes>"
      ]
     },
     "metadata": {},
     "output_type": "display_data"
    }
   ],
   "source": [
    "#Getting the Centroids\n",
    "centroids = kmeans.cluster_centers_\n",
    "u_labels = np.unique(label)\n",
    " \n",
    "#plotting the results:\n",
    " \n",
    "for i in u_labels:\n",
    "    plt.scatter(df[label == i , 0] , df[label == i , 1] , label = i)\n",
    "plt.scatter(centroids[:,0] , centroids[:,1] , s = 80, color = 'k')\n",
    "plt.legend()\n",
    "plt.show()"
   ]
  },
  {
   "cell_type": "code",
   "execution_count": null,
   "metadata": {},
   "outputs": [
    {
     "ename": "AttributeError",
     "evalue": "'KMeans' object has no attribute 'silhouette_score'",
     "output_type": "error",
     "traceback": [
      "\u001b[0;31m---------------------------------------------------------------------------\u001b[0m",
      "\u001b[0;31mAttributeError\u001b[0m                            Traceback (most recent call last)",
      "Cell \u001b[0;32mIn[19], line 1\u001b[0m\n\u001b[0;32m----> 1\u001b[0m kmeans\u001b[39m.\u001b[39;49msilhouette_score(df)\n",
      "\u001b[0;31mAttributeError\u001b[0m: 'KMeans' object has no attribute 'silhouette_score'"
     ]
    }
   ],
   "source": [
    "kmeans.silhouette_score(df)"
   ]
  },
  {
   "cell_type": "code",
   "execution_count": null,
   "metadata": {},
   "outputs": [],
   "source": [
    "#TODO: controllare lo score del cluster per vedere quanto è sparso \n",
    "# quante feature perdiamo utilizzando la PCA???? Rimane comunque significatvio???? "
   ]
  }
 ],
 "metadata": {
  "kernelspec": {
   "display_name": "Python 3",
   "language": "python",
   "name": "python3"
  },
  "language_info": {
   "codemirror_mode": {
    "name": "ipython",
    "version": 3
   },
   "file_extension": ".py",
   "mimetype": "text/x-python",
   "name": "python",
   "nbconvert_exporter": "python",
   "pygments_lexer": "ipython3",
   "version": "3.10.6"
  },
  "orig_nbformat": 4
 },
 "nbformat": 4,
 "nbformat_minor": 2
}
