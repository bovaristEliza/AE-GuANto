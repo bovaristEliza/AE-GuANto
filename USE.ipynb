{
 "cells": [
  {
   "attachments": {},
   "cell_type": "markdown",
   "metadata": {},
   "source": [
    "# Multilingual Universal Sentence Encoder\n",
    "The model is intented to be used for text classification, text clustering, semantic textural similarity retrieval, cross-lingual text retrieval, etc.  \n",
    "Convolutional Neural Net.  \n",
    "This specific module is optimized for multi-word length text, such as sentences, phrases or short paragraphs.  "
   ]
  },
  {
   "attachments": {},
   "cell_type": "markdown",
   "metadata": {},
   "source": [
    "## Caricamento del modello"
   ]
  },
  {
   "cell_type": "code",
   "execution_count": 2,
   "metadata": {},
   "outputs": [
    {
     "name": "stdout",
     "output_type": "stream",
     "text": [
      "module https://tfhub.dev/google/universal-sentence-encoder-multilingual/3 loaded\n"
     ]
    }
   ],
   "source": [
    "#module_url = \"https://tfhub.dev/google/universal-sentence-encoder/4\" \n",
    "import tensorflow_text\n",
    "import tensorflow_hub as hub\n",
    "\n",
    "module_url = \"https://tfhub.dev/google/universal-sentence-encoder-multilingual/3\" \n",
    "model = hub.load(module_url)\n",
    "print (\"module %s loaded\" % module_url)"
   ]
  },
  {
   "attachments": {},
   "cell_type": "markdown",
   "metadata": {},
   "source": [
    "## Importo il dataset "
   ]
  },
  {
   "cell_type": "code",
   "execution_count": 3,
   "metadata": {},
   "outputs": [],
   "source": [
    "import pandas as pd\n",
    "import nltk\n",
    "from nltk.tokenize import word_tokenize\n",
    "import numpy as np\n",
    "\n",
    "#load pandas dataframe (rimuovo le righe vuote che putroppo sono presenti)\n",
    "vax_series = pd.read_csv('data/posts_cleaned_it_only.csv')\n",
    "vax_series.dropna(inplace=True)\n",
    "\n",
    "#salviamo una lista di lista con le parole tokenizzate\n",
    "vax_text = vax_series['clean_text'].tolist()\n",
    "\n"
   ]
  },
  {
   "attachments": {},
   "cell_type": "markdown",
   "metadata": {},
   "source": [
    "## Pulizia"
   ]
  },
  {
   "cell_type": "code",
   "execution_count": 4,
   "metadata": {},
   "outputs": [
    {
     "name": "stdout",
     "output_type": "stream",
     "text": [
      "Secondo tutte le leggi conosciute dell’aeronautica, non c’è modo che un ape sia in grado di volare. Le sue ali sono troppo piccole per sollevare il suo corpicino grassoccio da terra. L’ape, si sa, vola lo stesso. Perché alle api non interessa quello che gli uomini ritengono impossibile\n"
     ]
    }
   ],
   "source": [
    "import spacy\n",
    "import pandas as pd\n",
    "import regex as re\n",
    "import nltk\n",
    "from nltk.stem.snowball import SnowballStemmer\n",
    "from nltk.tokenize import word_tokenize\n",
    "from nltk.corpus import stopwords\n",
    "it_stopwords = stopwords.words('italian')\n",
    "\n",
    "#the stemmer requires a language parameter\n",
    "snow_stemmer = SnowballStemmer(language='italian')\n",
    "\n",
    "def cleaner(s):\n",
    "    #removing numbers and special caracters\n",
    "    s = re.sub(r'[^a-z\\s]', '', s).strip()\n",
    "    #remving multiple spaces\n",
    "    s = \" \".join(s.split()).strip()\n",
    "    #some manual corrections\n",
    "    #s = s.replace(' accino', ' vaccino')\n",
    "    #removing stopwords with nltk\n",
    "    s = stop_word_remover(s)\n",
    "    #stemming with nltk\n",
    "    s = stemmer(s)\n",
    "\n",
    "    return s\n",
    "\n",
    "\n",
    "def stop_word_remover(text):\n",
    "    word_tokens = word_tokenize(text)\n",
    "    word_list = [word for word in word_tokens if word.lower() not in it_stopwords]\n",
    "    return \" \".join(word_list)\n",
    "\n",
    "def stemmer(text):\n",
    "    words = word_tokenize(text)\n",
    "    stem_words = [snow_stemmer.stem(word) for word in words]\n",
    "    return \" \".join(stem_words)\n",
    "\n",
    "query = \"Secondo tutte le leggi conosciute dell’aeronautica, non c’è modo che un ape sia in grado di volare. Le sue ali sono troppo piccole per sollevare il suo corpicino grassoccio da terra. L’ape, si sa, vola lo stesso. Perché alle api non interessa quello che gli uomini ritengono impossibile\"\n",
    "#query = \"vaccino pfizer lanciato sul mercato: 1 morto e 3 feriti\"\n",
    "#query=cleaner(query)\n",
    "\n",
    "print(query)\n"
   ]
  },
  {
   "attachments": {},
   "cell_type": "markdown",
   "metadata": {},
   "source": [
    "## Embedding\n",
    "\n",
    "Vettorizziamo tutto il dataset di partenza. Per ogni frase viene prodotto un vettore a 512 dimensioni. A causa di un crash dovuto alla memoria non si può elaborare tutto il dataset ma solamente batch di 1000 frasi alla volta."
   ]
  },
  {
   "cell_type": "code",
   "execution_count": 5,
   "metadata": {},
   "outputs": [
    {
     "name": "stdout",
     "output_type": "stream",
     "text": [
      "Processing sentences from 0 to 1000\n"
     ]
    },
    {
     "name": "stderr",
     "output_type": "stream",
     "text": [
      "2023-04-20 09:12:26.254940: W tensorflow/tsl/framework/cpu_allocator_impl.cc:83] Allocation of 221977600 exceeds 10% of free system memory.\n",
      "2023-04-20 09:12:27.383909: W tensorflow/tsl/framework/cpu_allocator_impl.cc:83] Allocation of 221977600 exceeds 10% of free system memory.\n",
      "2023-04-20 09:12:27.738628: W tensorflow/tsl/framework/cpu_allocator_impl.cc:83] Allocation of 221977600 exceeds 10% of free system memory.\n",
      "2023-04-20 09:12:27.832879: W tensorflow/tsl/framework/cpu_allocator_impl.cc:83] Allocation of 221977600 exceeds 10% of free system memory.\n",
      "2023-04-20 09:12:27.919046: W tensorflow/tsl/framework/cpu_allocator_impl.cc:83] Allocation of 221977600 exceeds 10% of free system memory.\n"
     ]
    },
    {
     "name": "stdout",
     "output_type": "stream",
     "text": [
      "Processing sentences from 1000 to 2000\n",
      "Processing sentences from 2000 to 3000\n",
      "Processing sentences from 3000 to 4000\n",
      "Processing sentences from 4000 to 5000\n",
      "Processing sentences from 5000 to 6000\n",
      "Processing sentences from 6000 to 7000\n",
      "Processing sentences from 7000 to 8000\n",
      "Processing sentences from 8000 to 9000\n",
      "Processing sentences from 9000 to 10000\n",
      "Processing sentences from 10000 to 11000\n",
      "Processing sentences from 11000 to 12000\n",
      "Processing sentences from 12000 to 13000\n",
      "Processing sentences from 13000 to 14000\n",
      "Processing sentences from 14000 to 15000\n",
      "Processing sentences from 15000 to 16000\n",
      "Processing sentences from 16000 to 17000\n",
      "Processing sentences from 17000 to 18000\n",
      "Processing sentences from 18000 to 19000\n",
      "Processing sentences from 19000 to 19104\n",
      "Shape of sentence vector:  (19104, 512)\n"
     ]
    }
   ],
   "source": [
    "#Vettorizza a 512 dimensioni ogni frase\n",
    "sentences_number = len(vax_text)\n",
    "BATCH_SIZE = 1000\n",
    "\n",
    "start = 0\n",
    "stop = BATCH_SIZE\n",
    "sentence_vector: np.ndarray = np.zeros((sentences_number, 512))\n",
    "while sentences_number > 0:\n",
    "    print(\"Processing sentences from {} to {}\".format(start, stop))\n",
    "    sentence_embeddings = model(vax_text[start:stop])\n",
    "    sentence_vector[start:stop] = sentence_embeddings\n",
    "\n",
    "    processed = stop - start\n",
    "    sentences_number -= processed\n",
    "\n",
    "    start = stop\n",
    "\n",
    "    if sentences_number < BATCH_SIZE:\n",
    "        stop += sentences_number\n",
    "    else:\n",
    "        stop += BATCH_SIZE\n",
    "\n",
    "print(\"Shape of sentence vector: \", sentence_vector.shape)"
   ]
  },
  {
   "cell_type": "code",
   "execution_count": 13,
   "metadata": {},
   "outputs": [
    {
     "data": {
      "text/plain": [
       "array([[ 3.25250323e-03, -5.18561415e-02,  8.81917309e-03, ...,\n",
       "        -7.82661587e-02,  5.83862839e-03,  1.75737068e-02],\n",
       "       [-2.94272080e-02,  6.69061914e-02,  3.72626632e-02, ...,\n",
       "         3.12175751e-02,  2.05631461e-02,  3.11349751e-03],\n",
       "       [-1.90323517e-02, -4.00103368e-02,  6.24251179e-03, ...,\n",
       "         3.37009667e-03,  3.42125930e-02, -2.39941608e-02],\n",
       "       ...,\n",
       "       [-4.83633056e-02, -2.57378723e-03, -4.43515666e-02, ...,\n",
       "        -5.67390285e-02,  7.40739342e-05, -1.62488557e-02],\n",
       "       [-3.28024141e-02, -3.66975251e-03, -3.67057770e-02, ...,\n",
       "        -5.04694693e-02,  1.68257952e-02, -4.62877192e-02],\n",
       "       [ 2.54594442e-03,  3.69714983e-02, -2.88047874e-03, ...,\n",
       "         3.46021093e-02, -1.49431853e-02,  1.00330777e-01]])"
      ]
     },
     "execution_count": 13,
     "metadata": {},
     "output_type": "execute_result"
    }
   ],
   "source": [
    "sentence_vector"
   ]
  },
  {
   "attachments": {},
   "cell_type": "markdown",
   "metadata": {},
   "source": [
    "## Clusterizzazione kmeans degli embedding"
   ]
  },
  {
   "cell_type": "code",
   "execution_count": 29,
   "metadata": {},
   "outputs": [
    {
     "name": "stdout",
     "output_type": "stream",
     "text": [
      "-13653.880549240814\n"
     ]
    },
    {
     "data": {
      "text/plain": [
       "count    19104.000000\n",
       "mean         0.465878\n",
       "std          0.155152\n",
       "min          0.151820\n",
       "25%          0.349704\n",
       "50%          0.436367\n",
       "75%          0.553347\n",
       "90%          0.703504\n",
       "95%          0.775755\n",
       "99%          0.870980\n",
       "max          1.018562\n",
       "Name: distance, dtype: float64"
      ]
     },
     "execution_count": 29,
     "metadata": {},
     "output_type": "execute_result"
    }
   ],
   "source": [
    "import numpy as np\n",
    "# k-means - Inertia as the number of clusters varies\n",
    "from sklearn.cluster import KMeans\n",
    "from scipy.spatial.distance import cosine, euclidean\n",
    "from sklearn import preprocessing  # to normalise existing X\n",
    "\n",
    "#create a numpy array with all the vectors\n",
    "'''\n",
    "vectors = np.zeros((len(sentence_embeddings), 512))\n",
    "for i in range(len(sentence_embeddings)):\n",
    "    vectors[i] = sentence_embeddings[i]\n",
    "'''\n",
    "vectors = sentence_vector\n",
    "#normalize\n",
    "vectors = preprocessing.normalize(vectors)\n",
    "\n",
    "X_train = pd.DataFrame(vectors)\n",
    "\n",
    "n_clusters = 1\n",
    "n_init = 10\n",
    "max_iter = 3000\n",
    "tol = 0.0001\n",
    "random_state = 2018\n",
    "# n_jobs = 2\n",
    "\n",
    "kmeansfirst = KMeans(n_clusters=n_clusters, n_init=n_init, \\\n",
    "    max_iter=max_iter, tol=tol, random_state=random_state )\n",
    "   \n",
    "kmeansfirst.fit(X_train)\n",
    "\n",
    "center = kmeansfirst.cluster_centers_\n",
    "\n",
    "\n",
    "print(kmeansfirst.score(vectors))\n",
    "\n",
    "#calculate the distance between each point and the center\n",
    "X_train['distance'] = X_train.apply(lambda x: cosine(x, center[0]), axis=1)\n",
    "X_train[\"distance\"].describe(percentiles=[0.25, 0.5, 0.75, 0.9, 0.95, 0.99])"
   ]
  },
  {
   "attachments": {},
   "cell_type": "markdown",
   "metadata": {},
   "source": [
    "## Calcolo della distanza degli embedding dal centro del cluster"
   ]
  },
  {
   "cell_type": "code",
   "execution_count": 7,
   "metadata": {},
   "outputs": [
    {
     "data": {
      "text/plain": [
       "count    19104.000000\n",
       "mean         0.465878\n",
       "std          0.155152\n",
       "min          0.151820\n",
       "25%          0.349704\n",
       "50%          0.436367\n",
       "75%          0.553347\n",
       "90%          0.703504\n",
       "95%          0.775755\n",
       "99%          0.870980\n",
       "max          1.018562\n",
       "Name: distance, dtype: float64"
      ]
     },
     "execution_count": 7,
     "metadata": {},
     "output_type": "execute_result"
    }
   ],
   "source": [
    "X_train[\"distance\"].describe(percentiles=[0.25, 0.5, 0.75, 0.9, 0.95, 0.99])"
   ]
  },
  {
   "cell_type": "code",
   "execution_count": 30,
   "metadata": {},
   "outputs": [
    {
     "data": {
      "text/html": [
       "<div>\n",
       "<style scoped>\n",
       "    .dataframe tbody tr th:only-of-type {\n",
       "        vertical-align: middle;\n",
       "    }\n",
       "\n",
       "    .dataframe tbody tr th {\n",
       "        vertical-align: top;\n",
       "    }\n",
       "\n",
       "    .dataframe thead th {\n",
       "        text-align: right;\n",
       "    }\n",
       "</style>\n",
       "<table border=\"1\" class=\"dataframe\">\n",
       "  <thead>\n",
       "    <tr style=\"text-align: right;\">\n",
       "      <th></th>\n",
       "      <th>0</th>\n",
       "      <th>1</th>\n",
       "      <th>2</th>\n",
       "      <th>3</th>\n",
       "      <th>4</th>\n",
       "      <th>5</th>\n",
       "      <th>6</th>\n",
       "      <th>7</th>\n",
       "      <th>8</th>\n",
       "      <th>9</th>\n",
       "      <th>...</th>\n",
       "      <th>503</th>\n",
       "      <th>504</th>\n",
       "      <th>505</th>\n",
       "      <th>506</th>\n",
       "      <th>507</th>\n",
       "      <th>508</th>\n",
       "      <th>509</th>\n",
       "      <th>510</th>\n",
       "      <th>511</th>\n",
       "      <th>distance</th>\n",
       "    </tr>\n",
       "  </thead>\n",
       "  <tbody>\n",
       "    <tr>\n",
       "      <th>0</th>\n",
       "      <td>0.003253</td>\n",
       "      <td>-0.051856</td>\n",
       "      <td>0.008819</td>\n",
       "      <td>0.035420</td>\n",
       "      <td>-0.056390</td>\n",
       "      <td>0.039814</td>\n",
       "      <td>-0.026003</td>\n",
       "      <td>0.062360</td>\n",
       "      <td>-0.014598</td>\n",
       "      <td>-0.046803</td>\n",
       "      <td>...</td>\n",
       "      <td>-0.024195</td>\n",
       "      <td>0.053257</td>\n",
       "      <td>0.005530</td>\n",
       "      <td>0.016039</td>\n",
       "      <td>0.053011</td>\n",
       "      <td>0.048130</td>\n",
       "      <td>-0.078266</td>\n",
       "      <td>0.005839</td>\n",
       "      <td>0.017574</td>\n",
       "      <td>0.740103</td>\n",
       "    </tr>\n",
       "    <tr>\n",
       "      <th>1</th>\n",
       "      <td>-0.029427</td>\n",
       "      <td>0.066906</td>\n",
       "      <td>0.037263</td>\n",
       "      <td>-0.063560</td>\n",
       "      <td>0.020369</td>\n",
       "      <td>0.070164</td>\n",
       "      <td>-0.028241</td>\n",
       "      <td>-0.020800</td>\n",
       "      <td>0.007048</td>\n",
       "      <td>-0.021935</td>\n",
       "      <td>...</td>\n",
       "      <td>0.045497</td>\n",
       "      <td>0.002107</td>\n",
       "      <td>-0.048474</td>\n",
       "      <td>-0.039355</td>\n",
       "      <td>-0.011514</td>\n",
       "      <td>0.050994</td>\n",
       "      <td>0.031218</td>\n",
       "      <td>0.020563</td>\n",
       "      <td>0.003113</td>\n",
       "      <td>0.474880</td>\n",
       "    </tr>\n",
       "    <tr>\n",
       "      <th>2</th>\n",
       "      <td>-0.019032</td>\n",
       "      <td>-0.040010</td>\n",
       "      <td>0.006243</td>\n",
       "      <td>-0.057446</td>\n",
       "      <td>0.057270</td>\n",
       "      <td>0.009287</td>\n",
       "      <td>0.039541</td>\n",
       "      <td>0.048783</td>\n",
       "      <td>-0.007706</td>\n",
       "      <td>0.023774</td>\n",
       "      <td>...</td>\n",
       "      <td>-0.046073</td>\n",
       "      <td>-0.019403</td>\n",
       "      <td>-0.007277</td>\n",
       "      <td>-0.076846</td>\n",
       "      <td>-0.007714</td>\n",
       "      <td>-0.010766</td>\n",
       "      <td>0.003370</td>\n",
       "      <td>0.034213</td>\n",
       "      <td>-0.023994</td>\n",
       "      <td>0.332788</td>\n",
       "    </tr>\n",
       "    <tr>\n",
       "      <th>3</th>\n",
       "      <td>0.014604</td>\n",
       "      <td>-0.026149</td>\n",
       "      <td>0.027795</td>\n",
       "      <td>-0.070448</td>\n",
       "      <td>-0.079842</td>\n",
       "      <td>0.040138</td>\n",
       "      <td>-0.016855</td>\n",
       "      <td>0.024767</td>\n",
       "      <td>-0.081722</td>\n",
       "      <td>0.006745</td>\n",
       "      <td>...</td>\n",
       "      <td>-0.022371</td>\n",
       "      <td>-0.002602</td>\n",
       "      <td>0.000522</td>\n",
       "      <td>-0.085762</td>\n",
       "      <td>0.009572</td>\n",
       "      <td>-0.035326</td>\n",
       "      <td>0.041143</td>\n",
       "      <td>-0.028362</td>\n",
       "      <td>0.066859</td>\n",
       "      <td>0.261996</td>\n",
       "    </tr>\n",
       "    <tr>\n",
       "      <th>4</th>\n",
       "      <td>0.007203</td>\n",
       "      <td>-0.067256</td>\n",
       "      <td>-0.030349</td>\n",
       "      <td>-0.067906</td>\n",
       "      <td>0.018423</td>\n",
       "      <td>0.023063</td>\n",
       "      <td>0.064291</td>\n",
       "      <td>0.022330</td>\n",
       "      <td>0.055137</td>\n",
       "      <td>-0.043313</td>\n",
       "      <td>...</td>\n",
       "      <td>-0.006153</td>\n",
       "      <td>-0.034591</td>\n",
       "      <td>-0.045259</td>\n",
       "      <td>-0.056286</td>\n",
       "      <td>-0.063932</td>\n",
       "      <td>0.004669</td>\n",
       "      <td>0.019615</td>\n",
       "      <td>0.002924</td>\n",
       "      <td>0.002659</td>\n",
       "      <td>0.467782</td>\n",
       "    </tr>\n",
       "    <tr>\n",
       "      <th>...</th>\n",
       "      <td>...</td>\n",
       "      <td>...</td>\n",
       "      <td>...</td>\n",
       "      <td>...</td>\n",
       "      <td>...</td>\n",
       "      <td>...</td>\n",
       "      <td>...</td>\n",
       "      <td>...</td>\n",
       "      <td>...</td>\n",
       "      <td>...</td>\n",
       "      <td>...</td>\n",
       "      <td>...</td>\n",
       "      <td>...</td>\n",
       "      <td>...</td>\n",
       "      <td>...</td>\n",
       "      <td>...</td>\n",
       "      <td>...</td>\n",
       "      <td>...</td>\n",
       "      <td>...</td>\n",
       "      <td>...</td>\n",
       "      <td>...</td>\n",
       "    </tr>\n",
       "    <tr>\n",
       "      <th>19099</th>\n",
       "      <td>0.005107</td>\n",
       "      <td>-0.023653</td>\n",
       "      <td>-0.030072</td>\n",
       "      <td>0.011741</td>\n",
       "      <td>0.039854</td>\n",
       "      <td>0.063507</td>\n",
       "      <td>0.010809</td>\n",
       "      <td>-0.080129</td>\n",
       "      <td>-0.051680</td>\n",
       "      <td>0.052423</td>\n",
       "      <td>...</td>\n",
       "      <td>0.069584</td>\n",
       "      <td>-0.028832</td>\n",
       "      <td>0.053663</td>\n",
       "      <td>0.058971</td>\n",
       "      <td>-0.018088</td>\n",
       "      <td>-0.000804</td>\n",
       "      <td>-0.046607</td>\n",
       "      <td>0.029729</td>\n",
       "      <td>-0.041423</td>\n",
       "      <td>0.817831</td>\n",
       "    </tr>\n",
       "    <tr>\n",
       "      <th>19100</th>\n",
       "      <td>-0.014399</td>\n",
       "      <td>-0.067524</td>\n",
       "      <td>0.046101</td>\n",
       "      <td>-0.053615</td>\n",
       "      <td>0.044501</td>\n",
       "      <td>-0.008646</td>\n",
       "      <td>0.046890</td>\n",
       "      <td>-0.085980</td>\n",
       "      <td>0.006431</td>\n",
       "      <td>0.066455</td>\n",
       "      <td>...</td>\n",
       "      <td>-0.013811</td>\n",
       "      <td>-0.036947</td>\n",
       "      <td>0.023791</td>\n",
       "      <td>-0.004788</td>\n",
       "      <td>-0.052224</td>\n",
       "      <td>-0.068988</td>\n",
       "      <td>-0.045990</td>\n",
       "      <td>0.020576</td>\n",
       "      <td>0.083666</td>\n",
       "      <td>0.761518</td>\n",
       "    </tr>\n",
       "    <tr>\n",
       "      <th>19101</th>\n",
       "      <td>-0.048363</td>\n",
       "      <td>-0.002574</td>\n",
       "      <td>-0.044352</td>\n",
       "      <td>-0.062175</td>\n",
       "      <td>-0.066610</td>\n",
       "      <td>0.025816</td>\n",
       "      <td>0.046397</td>\n",
       "      <td>0.040883</td>\n",
       "      <td>-0.061865</td>\n",
       "      <td>-0.002242</td>\n",
       "      <td>...</td>\n",
       "      <td>-0.062491</td>\n",
       "      <td>0.017216</td>\n",
       "      <td>-0.059927</td>\n",
       "      <td>-0.016498</td>\n",
       "      <td>0.056155</td>\n",
       "      <td>0.033939</td>\n",
       "      <td>-0.056739</td>\n",
       "      <td>0.000074</td>\n",
       "      <td>-0.016249</td>\n",
       "      <td>0.681517</td>\n",
       "    </tr>\n",
       "    <tr>\n",
       "      <th>19102</th>\n",
       "      <td>-0.032802</td>\n",
       "      <td>-0.003670</td>\n",
       "      <td>-0.036706</td>\n",
       "      <td>-0.054831</td>\n",
       "      <td>-0.073187</td>\n",
       "      <td>0.026676</td>\n",
       "      <td>0.051933</td>\n",
       "      <td>-0.021555</td>\n",
       "      <td>-0.068188</td>\n",
       "      <td>-0.028398</td>\n",
       "      <td>...</td>\n",
       "      <td>-0.063951</td>\n",
       "      <td>0.036383</td>\n",
       "      <td>-0.063192</td>\n",
       "      <td>-0.017459</td>\n",
       "      <td>0.047752</td>\n",
       "      <td>0.023552</td>\n",
       "      <td>-0.050469</td>\n",
       "      <td>0.016826</td>\n",
       "      <td>-0.046288</td>\n",
       "      <td>0.614559</td>\n",
       "    </tr>\n",
       "    <tr>\n",
       "      <th>19103</th>\n",
       "      <td>0.002546</td>\n",
       "      <td>0.036971</td>\n",
       "      <td>-0.002880</td>\n",
       "      <td>-0.053101</td>\n",
       "      <td>0.019917</td>\n",
       "      <td>0.031656</td>\n",
       "      <td>-0.015636</td>\n",
       "      <td>-0.074478</td>\n",
       "      <td>-0.044511</td>\n",
       "      <td>-0.000765</td>\n",
       "      <td>...</td>\n",
       "      <td>0.003954</td>\n",
       "      <td>0.031190</td>\n",
       "      <td>-0.025623</td>\n",
       "      <td>-0.065901</td>\n",
       "      <td>0.030538</td>\n",
       "      <td>-0.035001</td>\n",
       "      <td>0.034602</td>\n",
       "      <td>-0.014943</td>\n",
       "      <td>0.100331</td>\n",
       "      <td>0.325658</td>\n",
       "    </tr>\n",
       "  </tbody>\n",
       "</table>\n",
       "<p>19104 rows × 513 columns</p>\n",
       "</div>"
      ],
      "text/plain": [
       "              0         1         2         3         4         5         6  \\\n",
       "0      0.003253 -0.051856  0.008819  0.035420 -0.056390  0.039814 -0.026003   \n",
       "1     -0.029427  0.066906  0.037263 -0.063560  0.020369  0.070164 -0.028241   \n",
       "2     -0.019032 -0.040010  0.006243 -0.057446  0.057270  0.009287  0.039541   \n",
       "3      0.014604 -0.026149  0.027795 -0.070448 -0.079842  0.040138 -0.016855   \n",
       "4      0.007203 -0.067256 -0.030349 -0.067906  0.018423  0.023063  0.064291   \n",
       "...         ...       ...       ...       ...       ...       ...       ...   \n",
       "19099  0.005107 -0.023653 -0.030072  0.011741  0.039854  0.063507  0.010809   \n",
       "19100 -0.014399 -0.067524  0.046101 -0.053615  0.044501 -0.008646  0.046890   \n",
       "19101 -0.048363 -0.002574 -0.044352 -0.062175 -0.066610  0.025816  0.046397   \n",
       "19102 -0.032802 -0.003670 -0.036706 -0.054831 -0.073187  0.026676  0.051933   \n",
       "19103  0.002546  0.036971 -0.002880 -0.053101  0.019917  0.031656 -0.015636   \n",
       "\n",
       "              7         8         9  ...       503       504       505  \\\n",
       "0      0.062360 -0.014598 -0.046803  ... -0.024195  0.053257  0.005530   \n",
       "1     -0.020800  0.007048 -0.021935  ...  0.045497  0.002107 -0.048474   \n",
       "2      0.048783 -0.007706  0.023774  ... -0.046073 -0.019403 -0.007277   \n",
       "3      0.024767 -0.081722  0.006745  ... -0.022371 -0.002602  0.000522   \n",
       "4      0.022330  0.055137 -0.043313  ... -0.006153 -0.034591 -0.045259   \n",
       "...         ...       ...       ...  ...       ...       ...       ...   \n",
       "19099 -0.080129 -0.051680  0.052423  ...  0.069584 -0.028832  0.053663   \n",
       "19100 -0.085980  0.006431  0.066455  ... -0.013811 -0.036947  0.023791   \n",
       "19101  0.040883 -0.061865 -0.002242  ... -0.062491  0.017216 -0.059927   \n",
       "19102 -0.021555 -0.068188 -0.028398  ... -0.063951  0.036383 -0.063192   \n",
       "19103 -0.074478 -0.044511 -0.000765  ...  0.003954  0.031190 -0.025623   \n",
       "\n",
       "            506       507       508       509       510       511  distance  \n",
       "0      0.016039  0.053011  0.048130 -0.078266  0.005839  0.017574  0.740103  \n",
       "1     -0.039355 -0.011514  0.050994  0.031218  0.020563  0.003113  0.474880  \n",
       "2     -0.076846 -0.007714 -0.010766  0.003370  0.034213 -0.023994  0.332788  \n",
       "3     -0.085762  0.009572 -0.035326  0.041143 -0.028362  0.066859  0.261996  \n",
       "4     -0.056286 -0.063932  0.004669  0.019615  0.002924  0.002659  0.467782  \n",
       "...         ...       ...       ...       ...       ...       ...       ...  \n",
       "19099  0.058971 -0.018088 -0.000804 -0.046607  0.029729 -0.041423  0.817831  \n",
       "19100 -0.004788 -0.052224 -0.068988 -0.045990  0.020576  0.083666  0.761518  \n",
       "19101 -0.016498  0.056155  0.033939 -0.056739  0.000074 -0.016249  0.681517  \n",
       "19102 -0.017459  0.047752  0.023552 -0.050469  0.016826 -0.046288  0.614559  \n",
       "19103 -0.065901  0.030538 -0.035001  0.034602 -0.014943  0.100331  0.325658  \n",
       "\n",
       "[19104 rows x 513 columns]"
      ]
     },
     "execution_count": 30,
     "metadata": {},
     "output_type": "execute_result"
    }
   ],
   "source": [
    "X_train"
   ]
  },
  {
   "attachments": {},
   "cell_type": "markdown",
   "metadata": {},
   "source": [
    "# Frasi di prova per test"
   ]
  },
  {
   "cell_type": "code",
   "execution_count": 8,
   "metadata": {},
   "outputs": [
    {
     "name": "stdout",
     "output_type": "stream",
     "text": [
      "Anomalies score:\n",
      "Cosine: 0.936431551065891\n",
      "Cosine: 0.9131811065723247\n",
      "Cosine: 0.9348074929754242\n",
      "Cosine: 0.9019738594065275\n",
      "Novax score:\n",
      "Cosine: 0.34139114562142825\n",
      "Cosine: 0.47639376737155525\n",
      "Cosine: 0.33888534075570276\n",
      "Cosine: 0.8364525873526266\n",
      "Cosine: 0.7373290764441798\n",
      "Cosine: 0.38256631560688714\n"
     ]
    }
   ],
   "source": [
    "#calculating the distance from the center\n",
    "from gensim import similarities\n",
    "from scipy.spatial.distance import cosine, euclidean\n",
    "import spacy\n",
    "import pandas as pd\n",
    "import regex as re\n",
    "import numpy as np\n",
    "\n",
    "\n",
    "#definiziamo una lista di frasi che dovrebbero essere classificate come anomalie\n",
    "anomalies = [\"il cane gioca a palla\",\"ho dovuto ripristinare il PC per togliere tutti i suoi malware\", \"bella giornata oggi\", \"una frase che parla di tutt'altro ma il modo lunghissimo per tentare di ingannare il caro amico use\" ]\n",
    "novax_sentences = [\"i vaccini uccidono\", \"non mi voglio vaccinare\", \"no al vaccino\", \"non farò mai il booster\", \"dopo 4 dosi il sistema immunitario fritto\", \"i vaccini fanno morire le persone anche se ci dicono di no\"]\n",
    "#provo con un testo casuale\n",
    "#testo = \"i vaccini fanno morire le persone anche se ci dicono di no\"\n",
    "#test_vector = sbert_model.encode([anomalies])\n",
    "#test_vector = model(testo)\n",
    "\n",
    "cosine_distance = []\n",
    "euclidean_distance = []\n",
    "'''cosine_distance.append(  cosine(test_vector[0],center[0]) )\n",
    "cosine_distance.append(  cosine(test_vector[0],center[1]) )\n",
    "euclidean_distance.append (euclidean(test_vector[0],center[0]))\n",
    "euclidean_distance.append(euclidean(test_vector[0],center[1]))\n",
    "\n",
    "print(\"Distance score cosine 1 - 2:\",cosine_distance[0],cosine_distance[1])\n",
    "print(\"Distance score euclidean 1 - 2:\",euclidean_distance[0],euclidean_distance[1])\n",
    "print (\"Euclidean distance sum:\",sum(euclidean_distance))'''\n",
    "\n",
    "print(\"Anomalies score:\")\n",
    "for i in anomalies:\n",
    "   \n",
    "    test_vector = model([cleaner(i)])\n",
    "    test_vector_norm = preprocessing.normalize(test_vector)\n",
    "\n",
    "    cosine_distance = cosine(test_vector[0],center[0])\n",
    "    euclidean_distance = euclidean(test_vector[0],center[0])\n",
    "\n",
    "    #cosine_distance_norm = cosine(test_vector_norm[0],center[0])\n",
    "    #euclidean_distance_norm = euclidean(test_vector_norm[0],center[0])\n",
    "   \n",
    "    print (\"Cosine:\",cosine_distance)\n",
    "\n",
    "\n",
    "print(\"Novax score:\")\n",
    "for i in novax_sentences:\n",
    "    test_vector = model([cleaner(i)])\n",
    "    test_vector_norm = preprocessing.normalize(test_vector)\n",
    "\n",
    "    cosine_distance = cosine(test_vector[0],center[0])\n",
    "    euclidean_distance = euclidean(test_vector[0],center[0])\n",
    "\n",
    "    #cosine_distance_norm = cosine(test_vector_norm[0],center[0])\n",
    "    #euclidean_distance_norm = euclidean(test_vector_norm[0],center[0])\n",
    "   \n",
    "    print (\"Cosine:\",cosine_distance)\n",
    "    #print (\"Cosine norm:\",cosine_distance_norm,\"Euclidean norm: \",cosine_distance_norm)"
   ]
  },
  {
   "attachments": {},
   "cell_type": "markdown",
   "metadata": {},
   "source": [
    " ## PCA\n",
    "\n",
    " Proviamo usando la PCA per ridurre la dimensionalità del dataset.\n",
    "\n",
    "### Clustering e visualizzazione"
   ]
  },
  {
   "cell_type": "code",
   "execution_count": 48,
   "metadata": {},
   "outputs": [],
   "source": [
    "#Importing required modules\n",
    " \n",
    "\n",
    "from sklearn.decomposition import PCA\n",
    "from sklearn.cluster import KMeans\n",
    "import numpy as np\n",
    " \n",
    "\n",
    "pca = PCA(2)\n",
    " \n",
    "#Transform the data\n",
    "df = pca.fit_transform(sentence_vector)\n",
    " \n",
    "df.shape\n",
    "\n",
    "#Import required module\n",
    "from sklearn.cluster import KMeans\n",
    " \n",
    "n_clusters = 1\n",
    "n_init = 10\n",
    "max_iter = 3000\n",
    "tol = 0.0001\n",
    "random_state = 2018\n",
    "# n_jobs = 2\n",
    "\n",
    "kmeansPCA = KMeans(n_clusters=n_clusters, n_init=n_init, \\\n",
    "    max_iter=max_iter, tol=tol, random_state=random_state )\n",
    "   \n",
    "kmeansPCA.fit(df)\n",
    "\n",
    "center_pca = kmeansfirst.cluster_centers_\n",
    "\n"
   ]
  },
  {
   "cell_type": "code",
   "execution_count": 40,
   "metadata": {},
   "outputs": [
    {
     "ename": "InvalidIndexError",
     "evalue": "(slice(None, None, None), 0)",
     "output_type": "error",
     "traceback": [
      "\u001b[0;31m---------------------------------------------------------------------------\u001b[0m",
      "\u001b[0;31mTypeError\u001b[0m                                 Traceback (most recent call last)",
      "File \u001b[0;32m~/.local/lib/python3.10/site-packages/pandas/core/indexes/base.py:3800\u001b[0m, in \u001b[0;36mIndex.get_loc\u001b[0;34m(self, key, method, tolerance)\u001b[0m\n\u001b[1;32m   3799\u001b[0m \u001b[39mtry\u001b[39;00m:\n\u001b[0;32m-> 3800\u001b[0m     \u001b[39mreturn\u001b[39;00m \u001b[39mself\u001b[39;49m\u001b[39m.\u001b[39;49m_engine\u001b[39m.\u001b[39;49mget_loc(casted_key)\n\u001b[1;32m   3801\u001b[0m \u001b[39mexcept\u001b[39;00m \u001b[39mKeyError\u001b[39;00m \u001b[39mas\u001b[39;00m err:\n",
      "File \u001b[0;32m~/.local/lib/python3.10/site-packages/pandas/_libs/index.pyx:138\u001b[0m, in \u001b[0;36mpandas._libs.index.IndexEngine.get_loc\u001b[0;34m()\u001b[0m\n",
      "File \u001b[0;32m~/.local/lib/python3.10/site-packages/pandas/_libs/index.pyx:144\u001b[0m, in \u001b[0;36mpandas._libs.index.IndexEngine.get_loc\u001b[0;34m()\u001b[0m\n",
      "\u001b[0;31mTypeError\u001b[0m: '(slice(None, None, None), 0)' is an invalid key",
      "\nDuring handling of the above exception, another exception occurred:\n",
      "\u001b[0;31mInvalidIndexError\u001b[0m                         Traceback (most recent call last)",
      "\u001b[1;32m/home/lorenzo2004/Documenti/AE-GuANto/USE.ipynb Cell 20\u001b[0m in \u001b[0;36m7\n\u001b[1;32m      <a href='vscode-notebook-cell://wsl%2Bubuntu-20.04/home/lorenzo2004/Documenti/AE-GuANto/USE.ipynb#X23sdnNjb2RlLXJlbW90ZQ%3D%3D?line=3'>4</a>\u001b[0m filtered_label0 \u001b[39m=\u001b[39m df[label \u001b[39m==\u001b[39m \u001b[39m0\u001b[39m]\n\u001b[1;32m      <a href='vscode-notebook-cell://wsl%2Bubuntu-20.04/home/lorenzo2004/Documenti/AE-GuANto/USE.ipynb#X23sdnNjb2RlLXJlbW90ZQ%3D%3D?line=5'>6</a>\u001b[0m \u001b[39m#plotting the results\u001b[39;00m\n\u001b[0;32m----> <a href='vscode-notebook-cell://wsl%2Bubuntu-20.04/home/lorenzo2004/Documenti/AE-GuANto/USE.ipynb#X23sdnNjb2RlLXJlbW90ZQ%3D%3D?line=6'>7</a>\u001b[0m plt\u001b[39m.\u001b[39mscatter(filtered_label0[:,\u001b[39m0\u001b[39m] , filtered_label0[:,\u001b[39m1\u001b[39m])\n\u001b[1;32m      <a href='vscode-notebook-cell://wsl%2Bubuntu-20.04/home/lorenzo2004/Documenti/AE-GuANto/USE.ipynb#X23sdnNjb2RlLXJlbW90ZQ%3D%3D?line=7'>8</a>\u001b[0m plt\u001b[39m.\u001b[39mshow()\n",
      "File \u001b[0;32m~/.local/lib/python3.10/site-packages/pandas/core/frame.py:3805\u001b[0m, in \u001b[0;36mDataFrame.__getitem__\u001b[0;34m(self, key)\u001b[0m\n\u001b[1;32m   3803\u001b[0m \u001b[39mif\u001b[39;00m \u001b[39mself\u001b[39m\u001b[39m.\u001b[39mcolumns\u001b[39m.\u001b[39mnlevels \u001b[39m>\u001b[39m \u001b[39m1\u001b[39m:\n\u001b[1;32m   3804\u001b[0m     \u001b[39mreturn\u001b[39;00m \u001b[39mself\u001b[39m\u001b[39m.\u001b[39m_getitem_multilevel(key)\n\u001b[0;32m-> 3805\u001b[0m indexer \u001b[39m=\u001b[39m \u001b[39mself\u001b[39;49m\u001b[39m.\u001b[39;49mcolumns\u001b[39m.\u001b[39;49mget_loc(key)\n\u001b[1;32m   3806\u001b[0m \u001b[39mif\u001b[39;00m is_integer(indexer):\n\u001b[1;32m   3807\u001b[0m     indexer \u001b[39m=\u001b[39m [indexer]\n",
      "File \u001b[0;32m~/.local/lib/python3.10/site-packages/pandas/core/indexes/base.py:3807\u001b[0m, in \u001b[0;36mIndex.get_loc\u001b[0;34m(self, key, method, tolerance)\u001b[0m\n\u001b[1;32m   3802\u001b[0m         \u001b[39mraise\u001b[39;00m \u001b[39mKeyError\u001b[39;00m(key) \u001b[39mfrom\u001b[39;00m \u001b[39merr\u001b[39;00m\n\u001b[1;32m   3803\u001b[0m     \u001b[39mexcept\u001b[39;00m \u001b[39mTypeError\u001b[39;00m:\n\u001b[1;32m   3804\u001b[0m         \u001b[39m# If we have a listlike key, _check_indexing_error will raise\u001b[39;00m\n\u001b[1;32m   3805\u001b[0m         \u001b[39m#  InvalidIndexError. Otherwise we fall through and re-raise\u001b[39;00m\n\u001b[1;32m   3806\u001b[0m         \u001b[39m#  the TypeError.\u001b[39;00m\n\u001b[0;32m-> 3807\u001b[0m         \u001b[39mself\u001b[39;49m\u001b[39m.\u001b[39;49m_check_indexing_error(key)\n\u001b[1;32m   3808\u001b[0m         \u001b[39mraise\u001b[39;00m\n\u001b[1;32m   3810\u001b[0m \u001b[39m# GH#42269\u001b[39;00m\n",
      "File \u001b[0;32m~/.local/lib/python3.10/site-packages/pandas/core/indexes/base.py:5963\u001b[0m, in \u001b[0;36mIndex._check_indexing_error\u001b[0;34m(self, key)\u001b[0m\n\u001b[1;32m   5959\u001b[0m \u001b[39mdef\u001b[39;00m \u001b[39m_check_indexing_error\u001b[39m(\u001b[39mself\u001b[39m, key):\n\u001b[1;32m   5960\u001b[0m     \u001b[39mif\u001b[39;00m \u001b[39mnot\u001b[39;00m is_scalar(key):\n\u001b[1;32m   5961\u001b[0m         \u001b[39m# if key is not a scalar, directly raise an error (the code below\u001b[39;00m\n\u001b[1;32m   5962\u001b[0m         \u001b[39m# would convert to numpy arrays and raise later any way) - GH29926\u001b[39;00m\n\u001b[0;32m-> 5963\u001b[0m         \u001b[39mraise\u001b[39;00m InvalidIndexError(key)\n",
      "\u001b[0;31mInvalidIndexError\u001b[0m: (slice(None, None, None), 0)"
     ]
    }
   ],
   "source": [
    "import matplotlib.pyplot as plt\n",
    " \n",
    "#filter rows of original data\n",
    "filtered_label0 = df[label == 0]\n",
    " \n",
    "#plotting the results\n",
    "plt.scatter(filtered_label0[:,0] , filtered_label0[:,1])\n",
    "plt.show()"
   ]
  },
  {
   "cell_type": "code",
   "execution_count": 42,
   "metadata": {},
   "outputs": [
    {
     "data": {
      "image/png": "[encoded data removed]",
      "text/plain": [
       "<Figure size 640x480 with 1 Axes>"
      ]
     },
     "metadata": {},
     "output_type": "display_data"
    }
   ],
   "source": [
    "\n",
    "u_labels = np.unique(label)\n",
    " \n",
    "#plotting the results:\n",
    " \n",
    "for i in u_labels:\n",
    "    plt.scatter(df[label == i , 0] , df[label == i , 1] , label = i)\n",
    "plt.scatter(center_pca[:,0] , center_pca[:,1] , s = 80, color = 'k')\n",
    "plt.legend()\n",
    "plt.show()"
   ]
  },
  {
   "cell_type": "code",
   "execution_count": 47,
   "metadata": {},
   "outputs": [
    {
     "data": {
      "image/png": "[encoded data removed]",
      "text/plain": [
       "<Figure size 640x480 with 1 Axes>"
      ]
     },
     "metadata": {},
     "output_type": "display_data"
    }
   ],
   "source": [
    "import matplotlib.pyplot as plt\n",
    "\n",
    "\n",
    "novax_sentences = [\"i vaccini uccidono\", \"non mi voglio vaccinare\", \"no al vaccino\", \"non farò mai il booster\", \"dopo 4 dosi il sistema immunitario fritto\", \"i vaccini fanno morire le persone anche se ci dicono di no\"]\n",
    "anomalies = [\"il cane gioca a palla\",\"ho dovuto ripristinare il PC per togliere tutti i suoi malware\", \"bella giornata oggi\", \"una frase che parla di tutt'altro ma il modo lunghissimo per tentare di ingannare il caro amico use\" ]\n",
    "center_pca = preprocessing.normalize(center_pca)\n",
    "plt.scatter(df[:,0] , df[:,1])\n",
    "plt.scatter(center_pca[:,0] , center_pca[:,1] , s = 80, color = 'k')\n",
    "for i in anomalies:\n",
    "    test_vector = model([i])\n",
    "    test_vector = pca.transform(test_vector)\n",
    "    test_vector_norm = preprocessing.normalize(test_vector)\n",
    "    plt.scatter(test_vector[:,0] , test_vector[:,1], color = 'r')\n",
    "\n",
    "for i in novax_sentences:\n",
    "    test_vector = model([i])\n",
    "    test_vector = pca.transform(test_vector)\n",
    "    test_vector_norm = preprocessing.normalize(test_vector)\n",
    "    plt.scatter(test_vector[:,0] , test_vector[:,1], color = 'b')\n",
    "    \n",
    "#plotting the results\n",
    "\n",
    "plt.show()"
   ]
  },
  {
   "cell_type": "code",
   "execution_count": 67,
   "metadata": {},
   "outputs": [
    {
     "data": {
      "text/plain": [
       "array([[1.19233182e-17, 1.04185109e-17]])"
      ]
     },
     "execution_count": 67,
     "metadata": {},
     "output_type": "execute_result"
    }
   ],
   "source": [
    "centerPCA = kmeansfirst.cluster_centers_\n",
    "centerPCA"
   ]
  },
  {
   "cell_type": "code",
   "execution_count": 74,
   "metadata": {},
   "outputs": [
    {
     "data": {
      "text/plain": [
       "array([[1.19233182e-17, 1.04185109e-17]])"
      ]
     },
     "execution_count": 74,
     "metadata": {},
     "output_type": "execute_result"
    }
   ],
   "source": [
    "\n",
    "normalized_center = preprocessing.normalize(centerPCA,norm='max',axis=0)\n",
    "normalized_center"
   ]
  },
  {
   "attachments": {},
   "cell_type": "markdown",
   "metadata": {},
   "source": [
    "### Distribuzione delle distanze dal centro del cluster (del dataset originale con PCA)"
   ]
  },
  {
   "cell_type": "code",
   "execution_count": 32,
   "metadata": {},
   "outputs": [
    {
     "data": {
      "text/plain": [
       "count    1.910400e+04\n",
       "mean     9.760677e-01\n",
       "std      7.549962e-01\n",
       "min      3.169126e-09\n",
       "25%      1.550675e-01\n",
       "50%      9.870215e-01\n",
       "75%      1.767594e+00\n",
       "90%      1.972385e+00\n",
       "95%      1.993661e+00\n",
       "99%      1.999786e+00\n",
       "max      2.000000e+00\n",
       "Name: distance, dtype: float64"
      ]
     },
     "execution_count": 32,
     "metadata": {},
     "output_type": "execute_result"
    }
   ],
   "source": [
    "#creating a dataframe from the df array\n",
    "df = pd.DataFrame(df)\n",
    "\n",
    "#calculate the distance between each point and the center\n",
    "df['distance'] = df.apply(lambda x: cosine(x, center_pca[0]), axis=1)\n",
    "df[\"distance\"].describe(percentiles=[0.25, 0.5, 0.75, 0.9, 0.95, 0.99])"
   ]
  },
  {
   "attachments": {},
   "cell_type": "markdown",
   "metadata": {},
   "source": [
    "### Test con PCA"
   ]
  },
  {
   "cell_type": "code",
   "execution_count": 20,
   "metadata": {},
   "outputs": [
    {
     "name": "stdout",
     "output_type": "stream",
     "text": [
      "Anomalies score:\n",
      "Cosine: 0.40612541358182996\n",
      "Cosine: 0.7128590819538579\n",
      "Cosine: 1.0242230716715\n",
      "Cosine: 0.8572741005648049\n",
      "Novax score:\n",
      "Cosine: 0.3345523123422729\n",
      "Cosine: 0.21157575914086735\n",
      "Cosine: 0.23432581251941653\n",
      "Cosine: 0.3595303539424519\n",
      "Cosine: 0.3643408082467572\n",
      "Cosine: 0.49257165122211644\n"
     ]
    }
   ],
   "source": [
    "#calculating the distance from the center\n",
    "from gensim import similarities\n",
    "from scipy.spatial.distance import cosine, euclidean\n",
    "import spacy\n",
    "import pandas as pd\n",
    "import regex as re\n",
    "import numpy as np\n",
    "\n",
    "\n",
    "#definiziamo una lista di frasi che dovrebbero essere classificate come anomalie\n",
    "anomalies = [\"il cane gioca a palla\",\"ho dovuto ripristinare il PC per togliere tutti i suoi malware\", \"bella giornata oggi\", \"una frase che parla di tutt'altro ma il modo lunghissimo per tentare di ingannare il caro amico use\" ]\n",
    "novax_sentences = [\"i vaccini uccidono\", \"non mi voglio vaccinare\", \"no al vaccino\", \"non farò mai il booster\", \"dopo 4 dosi il sistema immunitario fritto\", \"i vaccini fanno morire le persone anche se ci dicono di no\"]\n",
    "\n",
    "\n",
    "\n",
    "print(\"Anomalies score:\")\n",
    "for i in anomalies:\n",
    "    \n",
    "    test_vector = model([i])\n",
    "    test_vector = pca.transform(test_vector)\n",
    "    test_vector_norm = preprocessing.normalize(test_vector)\n",
    "\n",
    "    cosine_distance = cosine(test_vector[0],center_pca[0])\n",
    "   \n",
    "   \n",
    "    print (\"Cosine:\",cosine_distance)\n",
    "\n",
    "\n",
    "print(\"Novax score:\")\n",
    "for i in novax_sentences:\n",
    "    test_vector = model([i])\n",
    "    test_vector = pca.transform(test_vector)\n",
    "    test_vector_norm = preprocessing.normalize(test_vector)\n",
    "\n",
    "    cosine_distance = cosine(test_vector[0],center_pca[0])\n",
    "    \n",
    "    print (\"Cosine:\",cosine_distance)\n",
    " "
   ]
  }
 ],
 "metadata": {
  "kernelspec": {
   "display_name": "Python 3",
   "language": "python",
   "name": "python3"
  },
  "language_info": {
   "codemirror_mode": {
    "name": "ipython",
    "version": 3
   },
   "file_extension": ".py",
   "mimetype": "text/x-python",
   "name": "python",
   "nbconvert_exporter": "python",
   "pygments_lexer": "ipython3",
   "version": "3.8.10"
  },
  "orig_nbformat": 4
 },
 "nbformat": 4,
 "nbformat_minor": 2
}
