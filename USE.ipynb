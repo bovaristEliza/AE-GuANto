{
 "cells": [
  {
   "attachments": {},
   "cell_type": "markdown",
   "metadata": {},
   "source": [
    "# Multilingual Universal Sentence Encoder\n",
    "The model is intented to be used for text classification, text clustering, semantic textural similarity retrieval, cross-lingual text retrieval, etc.  \n",
    "Convolutional Neural Net.  \n",
    "This specific module is optimized for multi-word length text, such as sentences, phrases or short paragraphs.  "
   ]
  },
  {
   "attachments": {},
   "cell_type": "markdown",
   "metadata": {},
   "source": [
    "## Caricamento del modello"
   ]
  },
  {
   "cell_type": "code",
   "execution_count": 5,
   "metadata": {},
   "outputs": [
    {
     "name": "stdout",
     "output_type": "stream",
     "text": [
      "module https://tfhub.dev/google/universal-sentence-encoder-multilingual/3 loaded\n"
     ]
    }
   ],
   "source": [
    "#module_url = \"https://tfhub.dev/google/universal-sentence-encoder/4\" \n",
    "import tensorflow_text\n",
    "import tensorflow_hub as hub\n",
    "\n",
    "module_url = \"https://tfhub.dev/google/universal-sentence-encoder-multilingual/3\" \n",
    "model = hub.load(module_url)\n",
    "print (\"module %s loaded\" % module_url)"
   ]
  },
  {
   "attachments": {},
   "cell_type": "markdown",
   "metadata": {},
   "source": [
    "## Importo il dataset "
   ]
  },
  {
   "cell_type": "code",
   "execution_count": 6,
   "metadata": {},
   "outputs": [],
   "source": [
    "import pandas as pd\n",
    "import nltk\n",
    "from nltk.tokenize import word_tokenize\n",
    "import numpy as np\n",
    "\n",
    "#load pandas dataframe (rimuovo le righe vuote che putroppo sono presenti)\n",
    "vax_series = pd.read_csv('data/posts_ULTRAcleaned_it_snowball.csv')\n",
    "vax_series.dropna(inplace=True)\n",
    "\n",
    "#salviamo una lista di lista con le parole tokenizzate\n",
    "vax_text = vax_series['clean_text'].tolist()\n",
    "\n"
   ]
  },
  {
   "attachments": {},
   "cell_type": "markdown",
   "metadata": {},
   "source": [
    "## Pulizia"
   ]
  },
  {
   "cell_type": "code",
   "execution_count": 7,
   "metadata": {},
   "outputs": [
    {
     "name": "stdout",
     "output_type": "stream",
     "text": [
      "Secondo tutte le leggi conosciute dell’aeronautica, non c’è modo che un ape sia in grado di volare. Le sue ali sono troppo piccole per sollevare il suo corpicino grassoccio da terra. L’ape, si sa, vola lo stesso. Perché alle api non interessa quello che gli uomini ritengono impossibile\n"
     ]
    }
   ],
   "source": [
    "import spacy\n",
    "import pandas as pd\n",
    "import regex as re\n",
    "import nltk\n",
    "from nltk.stem.snowball import SnowballStemmer\n",
    "from nltk.tokenize import word_tokenize\n",
    "from nltk.corpus import stopwords\n",
    "it_stopwords = stopwords.words('italian')\n",
    "\n",
    "#the stemmer requires a language parameter\n",
    "snow_stemmer = SnowballStemmer(language='italian')\n",
    "\n",
    "def cleaner(s):\n",
    "    #removing numbers and special caracters\n",
    "    s = re.sub(r'[^a-z\\s]', '', s).strip()\n",
    "    #remving multiple spaces\n",
    "    s = \" \".join(s.split()).strip()\n",
    "    #some manual corrections\n",
    "    #s = s.replace(' accino', ' vaccino')\n",
    "    #removing stopwords with nltk\n",
    "    s = stop_word_remover(s)\n",
    "    #stemming with nltk\n",
    "    s = stemmer(s)\n",
    "\n",
    "    return s\n",
    "\n",
    "\n",
    "def stop_word_remover(text):\n",
    "    word_tokens = word_tokenize(text)\n",
    "    word_list = [word for word in word_tokens if word.lower() not in it_stopwords]\n",
    "    return \" \".join(word_list)\n",
    "\n",
    "def stemmer(text):\n",
    "    words = word_tokenize(text)\n",
    "    stem_words = [snow_stemmer.stem(word) for word in words]\n",
    "    return \" \".join(stem_words)\n",
    "\n",
    "query = \"Secondo tutte le leggi conosciute dell’aeronautica, non c’è modo che un ape sia in grado di volare. Le sue ali sono troppo piccole per sollevare il suo corpicino grassoccio da terra. L’ape, si sa, vola lo stesso. Perché alle api non interessa quello che gli uomini ritengono impossibile\"\n",
    "#query = \"vaccino pfizer lanciato sul mercato: 1 morto e 3 feriti\"\n",
    "#query=cleaner(query)\n",
    "\n",
    "print(query)\n"
   ]
  },
  {
   "attachments": {},
   "cell_type": "markdown",
   "metadata": {},
   "source": [
    "## Embedding\n",
    "\n",
    "Vettorizziamo tutto il dataset di partenza. Per ogni frase viene prodotto un vettore a 512 dimensioni. A causa di un crash dovuto alla memoria non si può elaborare tutto il dataset ma solamente batch di 1000 frasi alla volta."
   ]
  },
  {
   "cell_type": "code",
   "execution_count": 8,
   "metadata": {},
   "outputs": [
    {
     "name": "stdout",
     "output_type": "stream",
     "text": [
      "Processing sentences from 0 to 1000\n",
      "Processing sentences from 1000 to 2000\n",
      "Processing sentences from 2000 to 3000\n",
      "Processing sentences from 3000 to 4000\n",
      "Processing sentences from 4000 to 5000\n",
      "Processing sentences from 5000 to 6000\n",
      "Processing sentences from 6000 to 7000\n",
      "Processing sentences from 7000 to 8000\n",
      "Processing sentences from 8000 to 9000\n",
      "Processing sentences from 9000 to 10000\n",
      "Processing sentences from 10000 to 11000\n",
      "Processing sentences from 11000 to 12000\n",
      "Processing sentences from 12000 to 13000\n",
      "Processing sentences from 13000 to 14000\n",
      "Processing sentences from 14000 to 15000\n",
      "Processing sentences from 15000 to 16000\n",
      "Processing sentences from 16000 to 17000\n",
      "Processing sentences from 17000 to 18000\n",
      "Processing sentences from 18000 to 19000\n",
      "Processing sentences from 19000 to 19103\n",
      "Shape of sentence vector:  (19103, 512)\n"
     ]
    }
   ],
   "source": [
    "#Vettorizza a 512 dimensioni ogni frase\n",
    "sentences_number = len(vax_text)\n",
    "BATCH_SIZE = 1000\n",
    "\n",
    "start = 0\n",
    "stop = BATCH_SIZE\n",
    "sentence_vector: np.ndarray = np.zeros((sentences_number, 512))\n",
    "while sentences_number > 0:\n",
    "    print(\"Processing sentences from {} to {}\".format(start, stop))\n",
    "    sentence_embeddings = model(vax_text[start:stop])\n",
    "    sentence_vector[start:stop] = sentence_embeddings\n",
    "\n",
    "    processed = stop - start\n",
    "    sentences_number -= processed\n",
    "\n",
    "    start = stop\n",
    "\n",
    "    if sentences_number < BATCH_SIZE:\n",
    "        stop += sentences_number\n",
    "    else:\n",
    "        stop += BATCH_SIZE\n",
    "\n",
    "print(\"Shape of sentence vector: \", sentence_vector.shape)"
   ]
  },
  {
   "attachments": {},
   "cell_type": "markdown",
   "metadata": {},
   "source": [
    "## Clusterizzazione kmeans degli embedding"
   ]
  },
  {
   "cell_type": "code",
   "execution_count": 9,
   "metadata": {},
   "outputs": [
    {
     "name": "stdout",
     "output_type": "stream",
     "text": [
      "-12250.709788227694\n"
     ]
    }
   ],
   "source": [
    "import numpy as np\n",
    "# k-means - Inertia as the number of clusters varies\n",
    "from sklearn.cluster import KMeans\n",
    "from scipy.spatial.distance import cosine, euclidean\n",
    "from sklearn import preprocessing  # to normalise existing X\n",
    "\n",
    "#create a numpy array with all the vectors\n",
    "'''\n",
    "vectors = np.zeros((len(sentence_embeddings), 512))\n",
    "for i in range(len(sentence_embeddings)):\n",
    "    vectors[i] = sentence_embeddings[i]\n",
    "'''\n",
    "vectors = sentence_vector\n",
    "#normalize\n",
    "vectors = preprocessing.normalize(vectors)\n",
    "\n",
    "X_train = pd.DataFrame(vectors)\n",
    "\n",
    "n_clusters = 1\n",
    "n_init = 10\n",
    "max_iter = 3000\n",
    "tol = 0.0001\n",
    "random_state = 2018\n",
    "# n_jobs = 2\n",
    "\n",
    "kmeansfirst = KMeans(n_clusters=n_clusters, n_init=n_init, \\\n",
    "    max_iter=max_iter, tol=tol, random_state=random_state )\n",
    "   \n",
    "kmeansfirst.fit(X_train)\n",
    "\n",
    "center = kmeansfirst.cluster_centers_\n",
    "\n",
    "\n",
    "print(kmeansfirst.score(vectors))\n",
    "\n",
    "#calculate the distance between each point and the center\n",
    "X_train['distance'] = X_train.apply(lambda x: cosine(x, center[0]), axis=1)"
   ]
  },
  {
   "attachments": {},
   "cell_type": "markdown",
   "metadata": {},
   "source": [
    "## Calcolo della distanza degli embedding dal centro del cluster"
   ]
  },
  {
   "cell_type": "code",
   "execution_count": 10,
   "metadata": {},
   "outputs": [
    {
     "data": {
      "text/plain": [
       "count    19103.000000\n",
       "mean         0.401082\n",
       "std          0.130405\n",
       "min          0.148312\n",
       "25%          0.316737\n",
       "50%          0.373056\n",
       "75%          0.446990\n",
       "90%          0.591787\n",
       "95%          0.684434\n",
       "99%          0.818100\n",
       "max          0.969242\n",
       "Name: distance, dtype: float64"
      ]
     },
     "execution_count": 10,
     "metadata": {},
     "output_type": "execute_result"
    }
   ],
   "source": [
    "X_train[\"distance\"].describe(percentiles=[0.25, 0.5, 0.75, 0.9, 0.95, 0.99])"
   ]
  },
  {
   "attachments": {},
   "cell_type": "markdown",
   "metadata": {},
   "source": [
    "# Frasi di prova per test"
   ]
  },
  {
   "cell_type": "code",
   "execution_count": 11,
   "metadata": {},
   "outputs": [
    {
     "name": "stdout",
     "output_type": "stream",
     "text": [
      "Anomalies score:\n",
      "Cosine: 0.8246393201363268\n",
      "Cosine: 0.8033370532187187\n",
      "Cosine: 0.8438325946890375\n",
      "Cosine: 0.6470363011629183\n",
      "Novax score:\n",
      "Cosine: 0.3714880982005636\n",
      "Cosine: 0.4542975200789947\n",
      "Cosine: 0.38014482710314745\n",
      "Cosine: 0.7577016981975305\n",
      "Cosine: 0.6228286907406456\n",
      "Cosine: 0.3300879555181917\n"
     ]
    }
   ],
   "source": [
    "#calculating the distance from the center\n",
    "from gensim import similarities\n",
    "from scipy.spatial.distance import cosine, euclidean\n",
    "import spacy\n",
    "import pandas as pd\n",
    "import regex as re\n",
    "import numpy as np\n",
    "\n",
    "\n",
    "#definiziamo una lista di frasi che dovrebbero essere classificate come anomalie\n",
    "anomalies = [\"il cane gioca a palla\",\"ho dovuto ripristinare il PC per togliere tutti i suoi malware\", \"bella giornata oggi\", \"una frase che parla di tutt'altro ma il modo lunghissimo per tentare di ingannare il caro amico use\" ]\n",
    "novax_sentences = [\"i vaccini uccidono\", \"non mi voglio vaccinare\", \"no al vaccino\", \"non farò mai il booster\", \"dopo 4 dosi il sistema immunitario fritto\", \"i vaccini fanno morire le persone anche se ci dicono di no\"]\n",
    "#provo con un testo casuale\n",
    "#testo = \"i vaccini fanno morire le persone anche se ci dicono di no\"\n",
    "#test_vector = sbert_model.encode([anomalies])\n",
    "#test_vector = model(testo)\n",
    "\n",
    "cosine_distance = []\n",
    "euclidean_distance = []\n",
    "'''cosine_distance.append(  cosine(test_vector[0],center[0]) )\n",
    "cosine_distance.append(  cosine(test_vector[0],center[1]) )\n",
    "euclidean_distance.append (euclidean(test_vector[0],center[0]))\n",
    "euclidean_distance.append(euclidean(test_vector[0],center[1]))\n",
    "\n",
    "print(\"Distance score cosine 1 - 2:\",cosine_distance[0],cosine_distance[1])\n",
    "print(\"Distance score euclidean 1 - 2:\",euclidean_distance[0],euclidean_distance[1])\n",
    "print (\"Euclidean distance sum:\",sum(euclidean_distance))'''\n",
    "\n",
    "print(\"Anomalies score:\")\n",
    "for i in anomalies:\n",
    "   \n",
    "    test_vector = model([cleaner(i)])\n",
    "    test_vector_norm = preprocessing.normalize(test_vector)\n",
    "\n",
    "    cosine_distance = cosine(test_vector[0],center[0])\n",
    "    euclidean_distance = euclidean(test_vector[0],center[0])\n",
    "\n",
    "    #cosine_distance_norm = cosine(test_vector_norm[0],center[0])\n",
    "    #euclidean_distance_norm = euclidean(test_vector_norm[0],center[0])\n",
    "   \n",
    "    print (\"Cosine:\",cosine_distance)\n",
    "\n",
    "\n",
    "print(\"Novax score:\")\n",
    "for i in novax_sentences:\n",
    "    test_vector = model([cleaner(i)])\n",
    "    test_vector_norm = preprocessing.normalize(test_vector)\n",
    "\n",
    "    cosine_distance = cosine(test_vector[0],center[0])\n",
    "    euclidean_distance = euclidean(test_vector[0],center[0])\n",
    "\n",
    "    #cosine_distance_norm = cosine(test_vector_norm[0],center[0])\n",
    "    #euclidean_distance_norm = euclidean(test_vector_norm[0],center[0])\n",
    "   \n",
    "    print (\"Cosine:\",cosine_distance)\n",
    "    #print (\"Cosine norm:\",cosine_distance_norm,\"Euclidean norm: \",cosine_distance_norm)"
   ]
  },
  {
   "cell_type": "code",
   "execution_count": null,
   "metadata": {},
   "outputs": [],
   "source": []
  },
  {
   "attachments": {},
   "cell_type": "markdown",
   "metadata": {},
   "source": [
    " ## Visualizzazione cluster con PCA"
   ]
  },
  {
   "cell_type": "code",
   "execution_count": 16,
   "metadata": {},
   "outputs": [
    {
     "name": "stderr",
     "output_type": "stream",
     "text": [
      "/home/apsev/.local/lib/python3.8/site-packages/sklearn/cluster/_kmeans.py:870: FutureWarning: The default value of `n_init` will change from 10 to 'auto' in 1.4. Set the value of `n_init` explicitly to suppress the warning\n",
      "  warnings.warn(\n"
     ]
    },
    {
     "name": "stdout",
     "output_type": "stream",
     "text": [
      "[0 0 0 ... 0 0 0]\n"
     ]
    }
   ],
   "source": [
    "#Importing required modules\n",
    " \n",
    "\n",
    "from sklearn.decomposition import PCA\n",
    "from sklearn.cluster import KMeans\n",
    "import numpy as np\n",
    " \n",
    "#Load Data\n",
    "data = sentence_vector\n",
    "pca = PCA(2)\n",
    " \n",
    "#Transform the data\n",
    "df = pca.fit_transform(data)\n",
    " \n",
    "df.shape\n",
    "\n",
    "#Import required module\n",
    "from sklearn.cluster import KMeans\n",
    " \n",
    "#Initialize the class object\n",
    "kmeans = KMeans(n_clusters= 1)\n",
    " \n",
    "#predict the labels of clusters.\n",
    "label = kmeans.fit_predict(df)\n",
    " \n",
    "print(label)\n",
    "\n"
   ]
  },
  {
   "cell_type": "code",
   "execution_count": 17,
   "metadata": {},
   "outputs": [
    {
     "data": {
      "image/png": "[encoded data removed]",
      "text/plain": [
       "<Figure size 640x480 with 1 Axes>"
      ]
     },
     "metadata": {},
     "output_type": "display_data"
    }
   ],
   "source": [
    "import matplotlib.pyplot as plt\n",
    " \n",
    "#filter rows of original data\n",
    "filtered_label0 = df[label == 0]\n",
    " \n",
    "#plotting the results\n",
    "plt.scatter(filtered_label0[:,0] , filtered_label0[:,1])\n",
    "plt.show()"
   ]
  },
  {
   "cell_type": "code",
   "execution_count": 18,
   "metadata": {},
   "outputs": [
    {
     "data": {
      "image/png": "[encoded data removed]",
      "text/plain": [
       "<Figure size 640x480 with 1 Axes>"
      ]
     },
     "metadata": {},
     "output_type": "display_data"
    }
   ],
   "source": [
    "#Getting the Centroids\n",
    "centroids = kmeans.cluster_centers_\n",
    "u_labels = np.unique(label)\n",
    " \n",
    "#plotting the results:\n",
    " \n",
    "for i in u_labels:\n",
    "    plt.scatter(df[label == i , 0] , df[label == i , 1] , label = i)\n",
    "plt.scatter(centroids[:,0] , centroids[:,1] , s = 80, color = 'k')\n",
    "plt.legend()\n",
    "plt.show()"
   ]
  },
  {
   "cell_type": "code",
   "execution_count": 15,
   "metadata": {},
   "outputs": [],
   "source": [
    "#TODO: controllare lo score del cluster per vedere quanto è sparso \n",
    "# quante feature perdiamo utilizzando la PCA???? Rimane comunque significatvio???? "
   ]
  }
 ],
 "metadata": {
  "kernelspec": {
   "display_name": "Python 3",
   "language": "python",
   "name": "python3"
  },
  "language_info": {
   "codemirror_mode": {
    "name": "ipython",
    "version": 3
   },
   "file_extension": ".py",
   "mimetype": "text/x-python",
   "name": "python",
   "nbconvert_exporter": "python",
   "pygments_lexer": "ipython3",
   "version": "3.8.10"
  },
  "orig_nbformat": 4
 },
 "nbformat": 4,
 "nbformat_minor": 2
}
